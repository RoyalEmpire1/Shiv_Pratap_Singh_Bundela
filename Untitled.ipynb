{
  "nbformat": 4,
  "nbformat_minor": 0,
  "metadata": {
    "colab": {
      "name": "Untitled",
      "provenance": []
    },
    "kernelspec": {
      "name": "python3",
      "display_name": "Python 3"
    },
    "language_info": {
      "name": "python"
    }
  },
  "cells": [
    {
      "cell_type": "code",
      "metadata": {
        "id": "EZhmqCkvvvoc"
      },
      "source": [
        "from keras.datasets import mnist\n",
        "\n",
        "data = mnist.load_data()"
      ],
      "execution_count": null,
      "outputs": []
    },
    {
      "cell_type": "code",
      "metadata": {
        "id": "ZZQCKX0LwX8j"
      },
      "source": [
        "((x_train, y_train), (x_test, y_test)) = data"
      ],
      "execution_count": null,
      "outputs": []
    },
    {
      "cell_type": "code",
      "metadata": {
        "colab": {
          "base_uri": "https://localhost:8080/"
        },
        "id": "9bDQQvbswcU1",
        "outputId": "659b95b0-f32a-4357-ab57-93962bc1b7b3"
      },
      "source": [
        "x_train[0].shape"
      ],
      "execution_count": 47,
      "outputs": [
        {
          "output_type": "execute_result",
          "data": {
            "text/plain": [
              "(28, 28)"
            ]
          },
          "metadata": {
            "tags": []
          },
          "execution_count": 47
        }
      ]
    },
    {
      "cell_type": "code",
      "metadata": {
        "id": "NNttoF1RwmfM"
      },
      "source": [
        "x_train = x_train.reshape((x_train.shape[0], 28*28)).astype('float32')\n",
        "x_test = x_test.reshape((x_test.shape[0], 28*28)).astype('float32')"
      ],
      "execution_count": 48,
      "outputs": []
    },
    {
      "cell_type": "code",
      "metadata": {
        "id": "hoC7LFVm0t05"
      },
      "source": [
        "x_train = x_train / 255\n",
        "x_test = x_test / 255"
      ],
      "execution_count": 49,
      "outputs": []
    },
    {
      "cell_type": "code",
      "metadata": {
        "colab": {
          "base_uri": "https://localhost:8080/"
        },
        "id": "dWopwpl2xPMw",
        "outputId": "2162e1f0-2724-4195-9753-b66fb1d034df"
      },
      "source": [
        "from keras.utils import np_utils\n",
        "\n",
        "print(y_test.shape)\n",
        "\n",
        "y_train = np_utils.to_categorical(y_train)\n",
        "y_test = np_utils.to_categorical(y_test)\n",
        "\n",
        "num_classes = y_test.shape[1]\n",
        "print(num_classes)\n"
      ],
      "execution_count": 50,
      "outputs": [
        {
          "output_type": "stream",
          "text": [
            "(10000,)\n",
            "10\n"
          ],
          "name": "stdout"
        }
      ]
    },
    {
      "cell_type": "code",
      "metadata": {
        "id": "Esgs_fCQxV6S"
      },
      "source": [
        "from keras.models import Sequential\n",
        "from keras.layers import Dense"
      ],
      "execution_count": 51,
      "outputs": []
    },
    {
      "cell_type": "code",
      "metadata": {
        "id": "vqxte94Axe3y"
      },
      "source": [
        "model = Sequential()\n",
        "\n",
        "model.add(Dense(32, input_dim = 28*28, activation='relu'))\n",
        "\n",
        "model.add(Dense(64, activation='relu'))\n",
        "\n",
        "model.add(Dense(10, activation='softmax'))"
      ],
      "execution_count": 52,
      "outputs": []
    },
    {
      "cell_type": "code",
      "metadata": {
        "id": "guVtydhx3Afq"
      },
      "source": [
        "model.compile(loss='categorical_crossentropy', optimizer='adam', metrics=['accuracy'])\n"
      ],
      "execution_count": 53,
      "outputs": []
    },
    {
      "cell_type": "code",
      "metadata": {
        "colab": {
          "base_uri": "https://localhost:8080/"
        },
        "id": "a-qexXx63Frz",
        "outputId": "cab7a2e4-f6a6-4c81-f4ff-542e23d3bfc3"
      },
      "source": [
        "model.summary()"
      ],
      "execution_count": 54,
      "outputs": [
        {
          "output_type": "stream",
          "text": [
            "Model: \"sequential_2\"\n",
            "_________________________________________________________________\n",
            "Layer (type)                 Output Shape              Param #   \n",
            "=================================================================\n",
            "dense_6 (Dense)              (None, 32)                25120     \n",
            "_________________________________________________________________\n",
            "dense_7 (Dense)              (None, 64)                2112      \n",
            "_________________________________________________________________\n",
            "dense_8 (Dense)              (None, 10)                650       \n",
            "=================================================================\n",
            "Total params: 27,882\n",
            "Trainable params: 27,882\n",
            "Non-trainable params: 0\n",
            "_________________________________________________________________\n"
          ],
          "name": "stdout"
        }
      ]
    },
    {
      "cell_type": "code",
      "metadata": {
        "colab": {
          "base_uri": "https://localhost:8080/"
        },
        "id": "840hmtts3eKV",
        "outputId": "076f232e-0d85-4ed2-f995-f31f6f4cccbe"
      },
      "source": [
        "model.fit(x_train, y_train, validation_split=0.2, epochs=10, batch_size=100)\n"
      ],
      "execution_count": 55,
      "outputs": [
        {
          "output_type": "stream",
          "text": [
            "Epoch 1/10\n",
            "480/480 [==============================] - 2s 2ms/step - loss: 0.8775 - accuracy: 0.7555 - val_loss: 0.2354 - val_accuracy: 0.9337\n",
            "Epoch 2/10\n",
            "480/480 [==============================] - 1s 2ms/step - loss: 0.2237 - accuracy: 0.9346 - val_loss: 0.1877 - val_accuracy: 0.9454\n",
            "Epoch 3/10\n",
            "480/480 [==============================] - 1s 2ms/step - loss: 0.1738 - accuracy: 0.9503 - val_loss: 0.1603 - val_accuracy: 0.9558\n",
            "Epoch 4/10\n",
            "480/480 [==============================] - 1s 2ms/step - loss: 0.1430 - accuracy: 0.9589 - val_loss: 0.1440 - val_accuracy: 0.9592\n",
            "Epoch 5/10\n",
            "480/480 [==============================] - 1s 2ms/step - loss: 0.1241 - accuracy: 0.9630 - val_loss: 0.1296 - val_accuracy: 0.9619\n",
            "Epoch 6/10\n",
            "480/480 [==============================] - 1s 2ms/step - loss: 0.1046 - accuracy: 0.9688 - val_loss: 0.1263 - val_accuracy: 0.9616\n",
            "Epoch 7/10\n",
            "480/480 [==============================] - 1s 2ms/step - loss: 0.0916 - accuracy: 0.9737 - val_loss: 0.1163 - val_accuracy: 0.9657\n",
            "Epoch 8/10\n",
            "480/480 [==============================] - 1s 2ms/step - loss: 0.0822 - accuracy: 0.9757 - val_loss: 0.1221 - val_accuracy: 0.9647\n",
            "Epoch 9/10\n",
            "480/480 [==============================] - 1s 2ms/step - loss: 0.0765 - accuracy: 0.9768 - val_loss: 0.1200 - val_accuracy: 0.9655\n",
            "Epoch 10/10\n",
            "480/480 [==============================] - 1s 2ms/step - loss: 0.0672 - accuracy: 0.9797 - val_loss: 0.1123 - val_accuracy: 0.9676\n"
          ],
          "name": "stdout"
        },
        {
          "output_type": "execute_result",
          "data": {
            "text/plain": [
              "<tensorflow.python.keras.callbacks.History at 0x7f018d826f90>"
            ]
          },
          "metadata": {
            "tags": []
          },
          "execution_count": 55
        }
      ]
    },
    {
      "cell_type": "code",
      "metadata": {
        "colab": {
          "base_uri": "https://localhost:8080/"
        },
        "id": "JUex-InS4sAk",
        "outputId": "5dc2044c-f27f-4e3c-a1e3-e7559a1d35a1"
      },
      "source": [
        "scores = model.evaluate(x_test, y_test)\n",
        "print(scores)     ##return loss and accuracy\n"
      ],
      "execution_count": 56,
      "outputs": [
        {
          "output_type": "stream",
          "text": [
            "313/313 [==============================] - 1s 1ms/step - loss: 0.1065 - accuracy: 0.9695\n",
            "[0.10647910088300705, 0.9695000052452087]\n"
          ],
          "name": "stdout"
        }
      ]
    }
  ]
}